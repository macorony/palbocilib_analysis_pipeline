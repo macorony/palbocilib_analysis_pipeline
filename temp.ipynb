{
 "cells": [
  {
   "cell_type": "code",
   "execution_count": 53,
   "metadata": {},
   "outputs": [],
   "source": [
    "import numpy as np\n",
    "import pandas as pd\n",
    "import matplotlib.pyplot as plt\n",
    "import seaborn as sns\n",
    "import warnings\n",
    "warnings.filterwarnings('ignore')\n",
    "from dataclasses import dataclass\n",
    "from typing import Optional, Dict, List, Tuple, Union\n",
    "from pathlib import Path\n",
    "from scipy import stats\n",
    "import logging\n",
    "logging.basicConfig(level=logging.INFO)\n",
    "logger = logging.getLogger(__name__)\n",
    "\n",
    "from palbociclib_signature_analysis import palbo_signatures\n",
    "from palbo_RNAseq_analysis import palbo_RNAseq\n",
    "from Integrative_analysis import geneset_heatmap, build_library"
   ]
  },
  {
   "cell_type": "code",
   "execution_count": 58,
   "metadata": {},
   "outputs": [],
   "source": [
    "@dataclass\n",
    "class DataPaths:\n",
    "    \"\"\"Centralize data paths configuration\"\"\"\n",
    "    BASE_PATH: Path = Path('./input_data')\n",
    "    CLINICAL_PATH: Path = BASE_PATH / 'clinical_features/brca_tcga_pan_can_atlas_2018_clinical_data.tsv'\n",
    "    RECEPTOR_PATH: Path = BASE_PATH / 'clinical_features/TCGA_BRCA_clinical_receptors.txt'\n",
    "    MRNA_BASE: Path = BASE_PATH / 'mRNA_data'\n",
    "\n",
    "# split the data based molecular and clinical subtype\n",
    "\n",
    "class TCGA_GeneExpressionData:\n",
    "    \"\"\"Handle gene expression data processing and analysis\"\"\"\n",
    "    def __init__(self):\n",
    "        self.clinical_data = None\n",
    "        self.receptor_data = None\n",
    "        self.gene_sets = {}\n",
    "        \n",
    "    def load_clinical_data(self, paths: DataPaths) -> None:\n",
    "        \"\"\"Load and process clinical data\"\"\"\n",
    "        try:\n",
    "            self.clinical_data = pd.read_table(paths.CLINICAL_PATH, index_col=0)\n",
    "            self.receptor_data = pd.read_table(paths.RECEPTOR_PATH, index_col=0)\n",
    "            self._process_receptor_data()\n",
    "        except Exception as e:\n",
    "            logger.error(f\"Error loading clinical data: {e}\")\n",
    "            raise\n",
    "            \n",
    "    def _process_receptor_data(self) -> None:\n",
    "        \"\"\"Process receptor data into clinical types\"\"\"\n",
    "        conditions = [\n",
    "            (self.receptor_data['er_status_by_ihc'].eq('Negative') & \n",
    "             self.receptor_data['pr_status_by_ihc'].eq('Negative') & \n",
    "             self.receptor_data['her2_status_by_ihc'].eq('Negative')),\n",
    "            ((self.receptor_data['er_status_by_ihc'].eq('Positive') | \n",
    "              self.receptor_data['pr_status_by_ihc'].eq('Positive')) & \n",
    "             self.receptor_data['her2_status_by_ihc'].eq('Negative'))\n",
    "        ]\n",
    "        choices = ['TNBC', 'HR_positive']\n",
    "        self.receptor_data['clinical_types'] = np.select(conditions, choices, default='other')\n",
    "    \n",
    "    @staticmethod\n",
    "    def preprocess_mRNA(fpath: Union[str, Path], remove_na: bool = True) -> pd.DataFrame:\n",
    "        \"\"\"Load and process cBioPortal data\"\"\"\n",
    "        try:\n",
    "            data = pd.read_table(fpath, index_col=1).iloc[:, 1:].T\n",
    "            data.columns = [col[:12] for col in data.columns]  # sample to patient conversion\n",
    "            return data.dropna(axis=1, how='all') if remove_na else data\n",
    "        except Exception as e:\n",
    "            logger.error(f\"Error processing cBioPortal data from {fpath}: {e}\")\n",
    "            raise\n",
    "            \n",
    "    def load_gene_sets(self, paths: DataPaths) -> None:\n",
    "        \"\"\"Load all gene set expression data\"\"\"\n",
    "        gene_sets = {\n",
    "            'MYC_V1': 'MYC_V1/mRNA expression z-scores relative to diploid samples (RNA Seq V2 RSEM).txt',\n",
    "            'G2M': 'G2M/mRNA expression z-scores relative to diploid samples (RNA Seq V2 RSEM).txt',\n",
    "            'E2F': 'E2F/mRNA expression z-scores relative to diploid samples (RNA Seq V2 RSEM).txt',\n",
    "            'EMT': 'EMT/mRNA expression z-scores relative to diploid samples (RNA Seq V2 RSEM).txt',\n",
    "            'Glyco': 'Glycosis/mRNA expression z-scores relative to diploid samples (RNA Seq V2 RSEM).txt',\n",
    "            'TNF_alpha': 'TNF_alpha/mRNA expression z-scores relative to diploid samples (RNA Seq V2 RSEM).txt'\n",
    "        }\n",
    "        \n",
    "        for name, file_path in gene_sets.items():\n",
    "            full_path = paths.MRNA_BASE / file_path\n",
    "            self.gene_sets[name] = self.preprocess_mRNA(full_path)"
   ]
  },
  {
   "cell_type": "code",
   "execution_count": 59,
   "metadata": {},
   "outputs": [],
   "source": [
    "analysis = TCGA_GeneExpressionData()"
   ]
  },
  {
   "cell_type": "code",
   "execution_count": 60,
   "metadata": {},
   "outputs": [],
   "source": [
    "paths = DataPaths()"
   ]
  },
  {
   "cell_type": "code",
   "execution_count": 68,
   "metadata": {},
   "outputs": [
    {
     "name": "stdout",
     "output_type": "stream",
     "text": [
      "             Neoplasm_Disease_Stage  Disease_Free_Month  \\\n",
      "Patient_ID                                                \n",
      "TCGA-3C-AAAU                STAGE X           59.440444   \n",
      "TCGA-3C-AALI              STAGE IIB          131.669790   \n",
      "TCGA-3C-AALJ              STAGE IIB           48.459743   \n",
      "TCGA-3C-AALK               STAGE IA                 NaN   \n",
      "TCGA-4H-AAAK             STAGE IIIA           11.440971   \n",
      "...                             ...                 ...   \n",
      "TCGA-WT-AB44               STAGE IA           29.029819   \n",
      "TCGA-XX-A899             STAGE IIIA           15.353256   \n",
      "TCGA-XX-A89A              STAGE IIB           16.043660   \n",
      "TCGA-Z7-A8R5             STAGE IIIA                 NaN   \n",
      "TCGA-Z7-A8R6                STAGE I          107.045402   \n",
      "\n",
      "              Fraction_Genome_Altered  Mutation_Count  Overall_Survival_Month  \\\n",
      "Patient_ID                                                                      \n",
      "TCGA-3C-AAAU                   0.7787            24.0              133.050597   \n",
      "TCGA-3C-AALI                   0.7164           458.0              131.669790   \n",
      "TCGA-3C-AALJ                   0.5340            28.0               48.459743   \n",
      "TCGA-3C-AALK                   0.0764            45.0               47.604958   \n",
      "TCGA-4H-AAAK                   0.2364            21.0               11.440971   \n",
      "...                               ...             ...                     ...   \n",
      "TCGA-WT-AB44                   0.3436            31.0               29.029819   \n",
      "TCGA-XX-A899                   0.0625            37.0               15.353256   \n",
      "TCGA-XX-A89A                   0.1764           151.0               16.043660   \n",
      "TCGA-Z7-A8R5                   0.0452            23.0              108.064569   \n",
      "TCGA-Z7-A8R6                   0.3367            64.0              107.045402   \n",
      "\n",
      "              Metastasis_Stage_Code Lymph_Node_Stage Tumor_Stage  \\\n",
      "Patient_ID                                                         \n",
      "TCGA-3C-AAAU                     MX               NX          TX   \n",
      "TCGA-3C-AALI                     M0              N1A          T2   \n",
      "TCGA-3C-AALJ                     M0              N1A          T2   \n",
      "TCGA-3C-AALK                     M0          N0 (I+)         T1C   \n",
      "TCGA-4H-AAAK                     M0              N2A          T2   \n",
      "...                             ...              ...         ...   \n",
      "TCGA-WT-AB44                     MX          N0 (I-)         T1C   \n",
      "TCGA-XX-A899                     MX              N2A         T1C   \n",
      "TCGA-XX-A89A                     MX               N0          T3   \n",
      "TCGA-Z7-A8R5                     MX              N1A          T3   \n",
      "TCGA-Z7-A8R6                     M0               N0         T1C   \n",
      "\n",
      "              Progress_Free_Survival_Months    Subtype  \n",
      "Patient_ID                                              \n",
      "TCGA-3C-AAAU                      59.440444  BRCA_LumA  \n",
      "TCGA-3C-AALI                     131.669790  BRCA_Her2  \n",
      "TCGA-3C-AALJ                      48.459743  BRCA_LumB  \n",
      "TCGA-3C-AALK                      47.604958  BRCA_LumA  \n",
      "TCGA-4H-AAAK                      11.440971  BRCA_LumA  \n",
      "...                                     ...        ...  \n",
      "TCGA-WT-AB44                      29.029819  BRCA_LumA  \n",
      "TCGA-XX-A899                      15.353256  BRCA_LumA  \n",
      "TCGA-XX-A89A                      16.043660  BRCA_LumA  \n",
      "TCGA-Z7-A8R5                       5.950620  BRCA_LumA  \n",
      "TCGA-Z7-A8R6                     107.045402  BRCA_LumB  \n",
      "\n",
      "[1084 rows x 10 columns]\n"
     ]
    }
   ],
   "source": [
    "analysis.load_clinical_data(paths)\n",
    "print(analysis.clinical_data)\n",
    "analysis.receptor_data\n",
    "analysis.load_gene_sets(paths)\n"
   ]
  },
  {
   "cell_type": "code",
   "execution_count": 147,
   "metadata": {},
   "outputs": [
    {
     "data": {
      "text/plain": [
       "array(['BRCA_LumA', 'BRCA_Her2', 'BRCA_LumB', 'BRCA_Normal', 'BRCA_Basal',\n",
       "       'Unidentified'], dtype=object)"
      ]
     },
     "execution_count": 147,
     "metadata": {},
     "output_type": "execute_result"
    }
   ],
   "source": [
    "analysis.clinical_data[\"Subtype\"].fillna(\"Unidentified\").unique()"
   ]
  },
  {
   "cell_type": "code",
   "execution_count": 116,
   "metadata": {},
   "outputs": [],
   "source": [
    "import math"
   ]
  },
  {
   "cell_type": "code",
   "execution_count": 141,
   "metadata": {},
   "outputs": [
    {
     "data": {
      "text/plain": [
       "True"
      ]
     },
     "execution_count": 141,
     "metadata": {},
     "output_type": "execute_result"
    }
   ],
   "source": [
    "pd.isna(analysis.clinical_data[\"Subtype\"][16])"
   ]
  },
  {
   "cell_type": "code",
   "execution_count": null,
   "metadata": {},
   "outputs": [],
   "source": []
  }
 ],
 "metadata": {
  "kernelspec": {
   "display_name": "Python 3 (ipykernel)",
   "language": "python",
   "name": "python3"
  },
  "language_info": {
   "codemirror_mode": {
    "name": "ipython",
    "version": 3
   },
   "file_extension": ".py",
   "mimetype": "text/x-python",
   "name": "python",
   "nbconvert_exporter": "python",
   "pygments_lexer": "ipython3",
   "version": "3.11.7"
  }
 },
 "nbformat": 4,
 "nbformat_minor": 4
}
